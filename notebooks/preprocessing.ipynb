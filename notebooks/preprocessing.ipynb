{
 "cells": [
  {
   "cell_type": "code",
   "execution_count": 3,
   "metadata": {},
   "outputs": [
    {
     "name": "stdout",
     "output_type": "stream",
     "text": [
      "✅ Done! Saved 3037 entries to CSV and JSON.\n"
     ]
    }
   ],
   "source": [
    "import json\n",
    "import re\n",
    "import pandas as pd\n",
    "\n",
    "# Load your input JSON file\n",
    "with open(\"//Users/pinar.buke/Desktop/ConvFinQA-main/financial-qa-app/notebooks/finqa_train_prompts.json\", \"r\") as f:\n",
    "    data = json.load(f)\n",
    "\n",
    "def normalize_number(value):\n",
    "    \"\"\"Convert strings like '$1,234.56%' to float.\"\"\"\n",
    "    if isinstance(value, str):\n",
    "        value = value.replace('$', '').replace('%', '').replace(',', '').strip()\n",
    "    try:\n",
    "        return float(value)\n",
    "    except:\n",
    "        return value  # return original if not a number\n",
    "\n",
    "def clean_prompt(prompt):\n",
    "    \"\"\"Clean prompt text for easier viewing.\"\"\"\n",
    "    return prompt.replace(\"\\n\", \" \").strip()\n",
    "\n",
    "def extract_question(prompt_text, fallback_question):\n",
    "    \"\"\"Try to extract question from prompt if present.\"\"\"\n",
    "    match = re.search(r\"Question:\\s*(.*?)\\n\", prompt_text, re.IGNORECASE)\n",
    "    return match.group(1).strip() if match else fallback_question\n",
    "\n",
    "def preprocess_prompt_entry(entry):\n",
    "    return {\n",
    "        \"question\": extract_question(entry.get(\"prompt\", \"\"), entry.get(\"question\", \"\")),\n",
    "        \"answer\": normalize_number(entry.get(\"answer\", \"\")),\n",
    "        \"raw_answer\": entry.get(\"answer\", \"\"),\n",
    "        \"cleaned_prompt\": clean_prompt(entry.get(\"prompt\", \"\"))\n",
    "    }\n",
    "\n",
    "# Apply preprocessing\n",
    "processed = [preprocess_prompt_entry(e) for e in data]\n",
    "df = pd.DataFrame(processed)\n",
    "\n",
    "# Save to CSV and JSON\n",
    "df.to_csv(\"preprocessed_finqa_prompts.csv\", index=False)\n",
    "with open(\"preprocessed_finqa_prompts.json\", \"w\") as f:\n",
    "    json.dump(processed, f, indent=2)\n",
    "\n",
    "print(f\"✅ Done! Saved {len(processed)} entries to CSV and JSON.\")\n"
   ]
  },
  {
   "cell_type": "code",
   "execution_count": 5,
   "metadata": {},
   "outputs": [
    {
     "name": "stdout",
     "output_type": "stream",
     "text": [
      "Sample entry:\n",
      " {'question': 'what was the percentage change in the net cash from operating activities from 2008 to 2009', 'answer': '14.1', 'raw_answer': '14.1%', 'cleaned_prompt': 'Question: what was the percentage change in the net cash from operating activities from 2008 to 2009  Context: Table: \\tYear ended June 30, 2009 2008\\t2007 Net income\\t$103,102\\t$104,222\\t$104,681 Non-cash expenses\\t74,397\\t70,420\\t56,348 Change in receivables\\t21,214\\t(2,913)\\t(28,853) Change in deferred revenue\\t21,943\\t5,100\\t24,576 Change in other assets and liabilities\\t(14,068)\\t4,172\\t17,495 Net cash from operating activities\\t$206,588\\t$181,001\\t$174,247  Pre-text: 26 | 2009 annual report in fiscal 2008 , revenues in the credit union systems and services business segment increased 14% ( 14 % ) from fiscal 2007 . all revenue components within the segment experienced growth during fiscal 2008 . license revenue generated the largest dollar growth in revenue as episys ae , our flagship core processing system aimed at larger credit unions , experienced strong sales throughout the year . support and service revenue , which is the largest component of total revenues for the credit union segment , experienced 34 percent growth in eft support and 10 percent growth in in-house support . gross profit in this business segment increased $ 9344 in fiscal 2008 compared to fiscal 2007 , due primarily to the increase in license revenue , which carries the highest margins . liquidity and capital resources we have historically generated positive cash flow from operations and have generally used funds generated from operations and short-term borrowings on our revolving credit facility to meet capital requirements . we expect this trend to continue in the future . the company 2019s cash and cash equivalents increased to $ 118251 at june 30 , 2009 from $ 65565 at june 30 , 2008 . the following table summarizes net cash from operating activities in the statement of cash flows : 2009 2008 2007 .  Post-text: year ended june 30 , cash provided by operations increased $ 25587 to $ 206588 for the fiscal year ended june 30 , 2009 as compared to $ 181001 for the fiscal year ended june 30 , 2008 . this increase is primarily attributable to a decrease in receivables compared to the same period a year ago of $ 21214 . this decrease is largely the result of fiscal 2010 annual software maintenance billings being provided to customers earlier than in the prior year , which allowed more cash to be collected before the end of the fiscal year than in previous years . further , we collected more cash overall related to revenues that will be recognized in subsequent periods in the current year than in fiscal 2008 . cash used in investing activities for the fiscal year ended june 2009 was $ 59227 and includes $ 3027 in contingent consideration paid on prior years 2019 acquisitions . cash used in investing activities for the fiscal year ended june 2008 was $ 102148 and includes payments for acquisitions of $ 48109 , plus $ 1215 in contingent consideration paid on prior years 2019 acquisitions . capital expenditures for fiscal 2009 were $ 31562 compared to $ 31105 for fiscal 2008 . cash used for software development in fiscal 2009 was $ 24684 compared to $ 23736 during the prior year . net cash used in financing activities for the current fiscal year was $ 94675 and includes the repurchase of 3106 shares of our common stock for $ 58405 , the payment of dividends of $ 26903 and $ 13489 net repayment on our revolving credit facilities . cash used in financing activities was partially offset by proceeds of $ 3773 from the exercise of stock options and the sale of common stock ( through the employee stock purchase plan ) and $ 348 excess tax benefits from stock option exercises . during fiscal 2008 , net cash used in financing activities for the fiscal year was $ 101905 and includes the repurchase of 4200 shares of our common stock for $ 100996 , the payment of dividends of $ 24683 and $ 429 net repayment on our revolving credit facilities . cash used in financing activities was partially offset by proceeds of $ 20394 from the exercise of stock options and the sale of common stock and $ 3809 excess tax benefits from stock option exercises . beginning during fiscal 2008 , us financial markets and many of the largest us financial institutions have been shaken by negative developments in the home mortgage industry and the mortgage markets , and particularly the markets for subprime mortgage-backed securities . since that time , these and other such developments have resulted in a broad , global economic downturn . while we , as is the case with most companies , have experienced the effects of this downturn , we have not experienced any significant issues with our current collection efforts , and we believe that any future impact to our liquidity will be minimized by cash generated by recurring sources of revenue and due to our access to available lines of credit. .  Steps: 1. subtract(206588, 181001) = 25587 2. divide(#0, 181001) = 14.1% Answer: 14.1%'}\n"
     ]
    },
    {
     "data": {
      "application/vnd.jupyter.widget-view+json": {
       "model_id": "3ffb08162b4b47c18b0c064586cb98e2",
       "version_major": 2,
       "version_minor": 0
      },
      "text/plain": [
       "Saving the dataset (0/1 shards):   0%|          | 0/3037 [00:00<?, ? examples/s]"
      ]
     },
     "metadata": {},
     "output_type": "display_data"
    },
    {
     "name": "stdout",
     "output_type": "stream",
     "text": [
      "✅ Full dataset saved to /Users/pinar.buke/Desktop/ConvFinQA-main/financial-qa-app/notebooks/huggingface_finqa_dataset\n"
     ]
    },
    {
     "data": {
      "application/vnd.jupyter.widget-view+json": {
       "model_id": "546cf8e911e94eda8cef5b8d0ea7e36b",
       "version_major": 2,
       "version_minor": 0
      },
      "text/plain": [
       "Saving the dataset (0/1 shards):   0%|          | 0/2733 [00:00<?, ? examples/s]"
      ]
     },
     "metadata": {},
     "output_type": "display_data"
    },
    {
     "data": {
      "application/vnd.jupyter.widget-view+json": {
       "model_id": "551cbc4e79e449ef9651c69648c90c1f",
       "version_major": 2,
       "version_minor": 0
      },
      "text/plain": [
       "Saving the dataset (0/1 shards):   0%|          | 0/304 [00:00<?, ? examples/s]"
      ]
     },
     "metadata": {},
     "output_type": "display_data"
    },
    {
     "name": "stdout",
     "output_type": "stream",
     "text": [
      "✅ Train dataset saved to /Users/pinar.buke/Desktop/ConvFinQA-main/financial-qa-app/notebooks/huggingface_finqa_train\n",
      "✅ Test dataset saved to /Users/pinar.buke/Desktop/ConvFinQA-main/financial-qa-app/notebooks/huggingface_finqa_test\n"
     ]
    }
   ],
   "source": [
    "from datasets import Dataset\n",
    "import json\n",
    "import os\n",
    "\n",
    "# Path to your preprocessed JSON file\n",
    "json_path = \"/Users/pinar.buke/Desktop/ConvFinQA-main/financial-qa-app/notebooks/preprocessed_finqa_prompts.json\"\n",
    "\n",
    "# Output directories\n",
    "base_dir = \"/Users/pinar.buke/Desktop/ConvFinQA-main/financial-qa-app/notebooks/\"\n",
    "full_dataset_path = os.path.join(base_dir, \"huggingface_finqa_dataset\")\n",
    "train_dataset_path = os.path.join(base_dir, \"huggingface_finqa_train\")\n",
    "test_dataset_path = os.path.join(base_dir, \"huggingface_finqa_test\")\n",
    "\n",
    "# Step 1: Load JSON\n",
    "with open(json_path, \"r\") as f:\n",
    "    raw_data = json.load(f)\n",
    "\n",
    "# Step 2: Convert all values to strings to avoid Arrow typing issues\n",
    "def convert_all_to_strings(example):\n",
    "    return {k: str(v) if not isinstance(v, str) else v for k, v in example.items()}\n",
    "\n",
    "stringified_data = [convert_all_to_strings(e) for e in raw_data]\n",
    "\n",
    "# Step 3: Create Hugging Face Dataset\n",
    "dataset = Dataset.from_list(stringified_data)\n",
    "\n",
    "# Step 4: View a sample\n",
    "print(\"Sample entry:\\n\", dataset[0])\n",
    "\n",
    "# Step 5: Save full dataset\n",
    "dataset.save_to_disk(full_dataset_path)\n",
    "print(f\"✅ Full dataset saved to {full_dataset_path}\")\n",
    "\n",
    "# Step 6: Optional Train/Test split\n",
    "split_dataset = dataset.train_test_split(test_size=0.1)\n",
    "split_dataset[\"train\"].save_to_disk(train_dataset_path)\n",
    "split_dataset[\"test\"].save_to_disk(test_dataset_path)\n",
    "\n",
    "print(f\"✅ Train dataset saved to {train_dataset_path}\")\n",
    "print(f\"✅ Test dataset saved to {test_dataset_path}\")\n",
    "\n"
   ]
  }
 ],
 "metadata": {
  "kernelspec": {
   "display_name": ".venv",
   "language": "python",
   "name": "python3"
  },
  "language_info": {
   "codemirror_mode": {
    "name": "ipython",
    "version": 3
   },
   "file_extension": ".py",
   "mimetype": "text/x-python",
   "name": "python",
   "nbconvert_exporter": "python",
   "pygments_lexer": "ipython3",
   "version": "3.13.2"
  }
 },
 "nbformat": 4,
 "nbformat_minor": 2
}
