{
 "cells": [
  {
   "cell_type": "code",
   "execution_count": 1,
   "metadata": {},
   "outputs": [],
   "source": [
    "from transformers import AutoTokenizer, AutoModelForCausalLM\n",
    "from datasets import load_dataset\n",
    "import torch\n",
    "from tqdm import tqdm\n",
    "import json"
   ]
  },
  {
   "cell_type": "code",
   "execution_count": 2,
   "metadata": {},
   "outputs": [],
   "source": [
    "# Load the fine-tuned model\n",
    "model_path = \"/Users/pinar.buke/Desktop/ConvFinQA-main/financial-qa-app/models/tinyllama_model\"\n",
    "tokenizer = AutoTokenizer.from_pretrained(model_path)\n",
    "model = AutoModelForCausalLM.from_pretrained(model_path)\n",
    "model.eval()\n",
    "tokenizer.pad_token = tokenizer.eos_token"
   ]
  },
  {
   "cell_type": "code",
   "execution_count": 3,
   "metadata": {},
   "outputs": [],
   "source": [
    "# Load the original dev or train prompts to test\n",
    "dataset = load_dataset(\"json\", data_files=\"../data/finqa_train_prompts.json\")\n",
    "dataset = dataset[\"train\"]"
   ]
  },
  {
   "cell_type": "code",
   "execution_count": 4,
   "metadata": {},
   "outputs": [],
   "source": [
    "# Evaluate a subset (for speed)\n",
    "test_data = dataset.select(range(100)).to_list()\n",
    "\n",
    "# Define accuracy metrics\n",
    "def exact_match(pred, target):\n",
    "    return pred.strip().lower() == target.strip().lower()"
   ]
  },
  {
   "cell_type": "code",
   "execution_count": 5,
   "metadata": {},
   "outputs": [],
   "source": [
    "def numeric_match(pred, truth):\n",
    "    try:\n",
    "        pred_val = float(pred.strip('%'))\n",
    "        true_val = float(truth.strip('%'))\n",
    "        return abs(pred_val - true_val) <= 1.0\n",
    "    except:\n",
    "        return False"
   ]
  },
  {
   "cell_type": "code",
   "execution_count": 6,
   "metadata": {},
   "outputs": [
    {
     "name": "stderr",
     "output_type": "stream",
     "text": [
      " 27%|██▋       | 27/100 [04:22<11:18,  9.29s/it]This is a friendly reminder - the current text generation call will exceed the model's predefined maximum length (2048). Depending on the model, you may observe exceptions, performance degradation, or nothing at all.\n",
      "100%|██████████| 100/100 [17:34<00:00, 10.54s/it]\n"
     ]
    }
   ],
   "source": [
    "# Generate and evaluate\n",
    "em_total = 0\n",
    "num_total = 0\n",
    "all_preds = []\n",
    "\n",
    "for item in tqdm(test_data):\n",
    "    prompt = item[\"prompt\"]\n",
    "    true_answer = item[\"answer\"]\n",
    "\n",
    "    try:\n",
    "        inputs = tokenizer(prompt, return_tensors=\"pt\", truncation=True)\n",
    "        inputs = {k: v.to(model.device) for k, v in inputs.items()}\n",
    "\n",
    "        # Clamp input_ids to model vocab size (avoid index errors)\n",
    "        inputs[\"input_ids\"] = inputs[\"input_ids\"].clamp(max=model.config.vocab_size - 1)\n",
    "\n",
    "        with torch.no_grad():\n",
    "            outputs = model.generate(**inputs, max_new_tokens=64)\n",
    "\n",
    "        decoded = tokenizer.decode(outputs[0], skip_special_tokens=True)\n",
    "        prediction = decoded.split(\"Answer:\")[-1].strip().split(\"\\n\")[0]\n",
    "\n",
    "        all_preds.append({\n",
    "            \"question\": item[\"question\"],\n",
    "            \"true_answer\": true_answer,\n",
    "            \"predicted\": prediction\n",
    "        })\n",
    "\n",
    "        if exact_match(prediction, true_answer):\n",
    "            em_total += 1\n",
    "        if numeric_match(prediction, true_answer):\n",
    "            num_total += 1\n",
    "\n",
    "    except Exception as e:\n",
    "        print(\"❌ Error on:\", item[\"question\"])\n",
    "        print(str(e))"
   ]
  },
  {
   "cell_type": "code",
   "execution_count": 7,
   "metadata": {},
   "outputs": [
    {
     "name": "stdout",
     "output_type": "stream",
     "text": [
      "\n",
      "📊 Evaluation Results on 100 samples:\n",
      "- Exact Match (EM): 84.00%\n",
      "- Numeric Accuracy (±1%): 89.00%\n"
     ]
    }
   ],
   "source": [
    "# Final results\n",
    "total = len(test_data)\n",
    "print(\"\\n📊 Evaluation Results on {} samples:\".format(total))\n",
    "print(\"- Exact Match (EM): {:.2f}%\".format(100 * em_total / total))\n",
    "print(\"- Numeric Accuracy (±1%): {:.2f}%\".format(100 * num_total / total))\n"
   ]
  },
  {
   "cell_type": "code",
   "execution_count": 16,
   "metadata": {},
   "outputs": [],
   "source": [
    "# Save predictions\n",
    "import json\n",
    "with open(\"finqa_predictions.json\", \"w\") as f:\n",
    "    json.dump(all_preds, f, indent=2)"
   ]
  }
 ],
 "metadata": {
  "kernelspec": {
   "display_name": ".venv",
   "language": "python",
   "name": "python3"
  },
  "language_info": {
   "codemirror_mode": {
    "name": "ipython",
    "version": 3
   },
   "file_extension": ".py",
   "mimetype": "text/x-python",
   "name": "python",
   "nbconvert_exporter": "python",
   "pygments_lexer": "ipython3",
   "version": "3.13.2"
  }
 },
 "nbformat": 4,
 "nbformat_minor": 2
}
