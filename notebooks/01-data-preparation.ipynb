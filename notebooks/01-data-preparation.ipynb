{
 "cells": [
  {
   "cell_type": "markdown",
   "metadata": {},
   "source": [
    "## Imports"
   ]
  },
  {
   "cell_type": "code",
   "execution_count": 1,
   "metadata": {},
   "outputs": [],
   "source": [
    "import json\n",
    "import pandas as pd\n",
    "import numpy as np\n",
    "import re"
   ]
  },
  {
   "cell_type": "code",
   "execution_count": 2,
   "metadata": {},
   "outputs": [
    {
     "name": "stdout",
     "output_type": "stream",
     "text": [
      "Loaded 3037 records from train.json.\n"
     ]
    }
   ],
   "source": [
    "with open('../data/train.json', 'r') as file:\n",
    "    data = json.load(file)\n",
    "\n",
    "print(f\"Loaded {len(data)} records from train.json.\")"
   ]
  },
  {
   "cell_type": "code",
   "execution_count": 3,
   "metadata": {},
   "outputs": [
    {
     "data": {
      "text/plain": [
       "{'pre_text': ['26 | 2009 annual report in fiscal 2008 , revenues in the credit union systems and services business segment increased 14% ( 14 % ) from fiscal 2007 .',\n",
       "  'all revenue components within the segment experienced growth during fiscal 2008 .',\n",
       "  'license revenue generated the largest dollar growth in revenue as episys ae , our flagship core processing system aimed at larger credit unions , experienced strong sales throughout the year .',\n",
       "  'support and service revenue , which is the largest component of total revenues for the credit union segment , experienced 34 percent growth in eft support and 10 percent growth in in-house support .',\n",
       "  'gross profit in this business segment increased $ 9344 in fiscal 2008 compared to fiscal 2007 , due primarily to the increase in license revenue , which carries the highest margins .',\n",
       "  'liquidity and capital resources we have historically generated positive cash flow from operations and have generally used funds generated from operations and short-term borrowings on our revolving credit facility to meet capital requirements .',\n",
       "  'we expect this trend to continue in the future .',\n",
       "  'the company 2019s cash and cash equivalents increased to $ 118251 at june 30 , 2009 from $ 65565 at june 30 , 2008 .',\n",
       "  'the following table summarizes net cash from operating activities in the statement of cash flows : 2009 2008 2007 .'],\n",
       " 'post_text': ['year ended june 30 , cash provided by operations increased $ 25587 to $ 206588 for the fiscal year ended june 30 , 2009 as compared to $ 181001 for the fiscal year ended june 30 , 2008 .',\n",
       "  'this increase is primarily attributable to a decrease in receivables compared to the same period a year ago of $ 21214 .',\n",
       "  'this decrease is largely the result of fiscal 2010 annual software maintenance billings being provided to customers earlier than in the prior year , which allowed more cash to be collected before the end of the fiscal year than in previous years .',\n",
       "  'further , we collected more cash overall related to revenues that will be recognized in subsequent periods in the current year than in fiscal 2008 .',\n",
       "  'cash used in investing activities for the fiscal year ended june 2009 was $ 59227 and includes $ 3027 in contingent consideration paid on prior years 2019 acquisitions .',\n",
       "  'cash used in investing activities for the fiscal year ended june 2008 was $ 102148 and includes payments for acquisitions of $ 48109 , plus $ 1215 in contingent consideration paid on prior years 2019 acquisitions .',\n",
       "  'capital expenditures for fiscal 2009 were $ 31562 compared to $ 31105 for fiscal 2008 .',\n",
       "  'cash used for software development in fiscal 2009 was $ 24684 compared to $ 23736 during the prior year .',\n",
       "  'net cash used in financing activities for the current fiscal year was $ 94675 and includes the repurchase of 3106 shares of our common stock for $ 58405 , the payment of dividends of $ 26903 and $ 13489 net repayment on our revolving credit facilities .',\n",
       "  'cash used in financing activities was partially offset by proceeds of $ 3773 from the exercise of stock options and the sale of common stock ( through the employee stock purchase plan ) and $ 348 excess tax benefits from stock option exercises .',\n",
       "  'during fiscal 2008 , net cash used in financing activities for the fiscal year was $ 101905 and includes the repurchase of 4200 shares of our common stock for $ 100996 , the payment of dividends of $ 24683 and $ 429 net repayment on our revolving credit facilities .',\n",
       "  'cash used in financing activities was partially offset by proceeds of $ 20394 from the exercise of stock options and the sale of common stock and $ 3809 excess tax benefits from stock option exercises .',\n",
       "  'beginning during fiscal 2008 , us financial markets and many of the largest us financial institutions have been shaken by negative developments in the home mortgage industry and the mortgage markets , and particularly the markets for subprime mortgage-backed securities .',\n",
       "  'since that time , these and other such developments have resulted in a broad , global economic downturn .',\n",
       "  'while we , as is the case with most companies , have experienced the effects of this downturn , we have not experienced any significant issues with our current collection efforts , and we believe that any future impact to our liquidity will be minimized by cash generated by recurring sources of revenue and due to our access to available lines of credit. .'],\n",
       " 'filename': 'JKHY/2009/page_28.pdf',\n",
       " 'table_ori': [['', 'Year ended June 30, 2009'],\n",
       "  ['2008', '2007'],\n",
       "  ['Net income', '$103,102', '$104,222', '$104,681'],\n",
       "  ['Non-cash expenses', '74,397', '70,420', '56,348'],\n",
       "  ['Change in receivables', '21,214', '(2,913)', '(28,853)'],\n",
       "  ['Change in deferred revenue', '21,943', '5,100', '24,576'],\n",
       "  ['Change in other assets and liabilities', '(14,068)', '4,172', '17,495'],\n",
       "  ['Net cash from operating activities', '$206,588', '$181,001', '$174,247']],\n",
       " 'table': [['2008',\n",
       "   'year ended june 30 2009 2008',\n",
       "   'year ended june 30 2009 2008',\n",
       "   'year ended june 30 2009'],\n",
       "  ['net income', '$ 103102', '$ 104222', '$ 104681'],\n",
       "  ['non-cash expenses', '74397', '70420', '56348'],\n",
       "  ['change in receivables', '21214', '-2913 ( 2913 )', '-28853 ( 28853 )'],\n",
       "  ['change in deferred revenue', '21943', '5100', '24576'],\n",
       "  ['change in other assets and liabilities',\n",
       "   '-14068 ( 14068 )',\n",
       "   '4172',\n",
       "   '17495'],\n",
       "  ['net cash from operating activities', '$ 206588', '$ 181001', '$ 174247']],\n",
       " 'qa': {'question': 'what was the percentage change in the net cash from operating activities from 2008 to 2009',\n",
       "  'answer': '14.1%',\n",
       "  'explanation': '',\n",
       "  'ann_table_rows': [6],\n",
       "  'ann_text_rows': [],\n",
       "  'steps': [{'op': 'minus2-1',\n",
       "    'arg1': '206588',\n",
       "    'arg2': '181001',\n",
       "    'res': '25587'},\n",
       "   {'op': 'divide2-2', 'arg1': '#0', 'arg2': '181001', 'res': '14.1%'}],\n",
       "  'program': 'subtract(206588, 181001), divide(#0, 181001)',\n",
       "  'gold_inds': {'table_6': '2008 the net cash from operating activities of year ended june 30 2009 2008 is $ 206588 ; the net cash from operating activities of year ended june 30 2009 2008 is $ 181001 ; the net cash from operating activities of year ended june 30 2009 is $ 174247 ;'},\n",
       "  'exe_ans': 0.14136,\n",
       "  'program_re': 'divide(subtract(206588, 181001), 181001)'},\n",
       " 'id': 'Single_JKHY/2009/page_28.pdf-3',\n",
       " 'annotation': {'amt_table': \"<table class='wikitable'><tr><td>1</td><td>2008</td><td>year ended june 30 2009 2008</td><td>year ended june 30 2009 2008</td><td>year ended june 30 2009</td></tr><tr><td>2</td><td>net income</td><td>$ 103102</td><td>$ 104222</td><td>$ 104681</td></tr><tr><td>3</td><td>non-cash expenses</td><td>74397</td><td>70420</td><td>56348</td></tr><tr><td>4</td><td>change in receivables</td><td>21214</td><td>-2913 ( 2913 )</td><td>-28853 ( 28853 )</td></tr><tr><td>5</td><td>change in deferred revenue</td><td>21943</td><td>5100</td><td>24576</td></tr><tr><td>6</td><td>change in other assets and liabilities</td><td>-14068 ( 14068 )</td><td>4172</td><td>17495</td></tr><tr><td>7</td><td>net cash from operating activities</td><td>$ 206588</td><td>$ 181001</td><td>$ 174247</td></tr></table>\",\n",
       "  'amt_pre_text': '26 | 2009 annual report in fiscal 2008 , revenues in the credit union systems and services business segment increased 14% ( 14 % ) from fiscal 2007 . all revenue components within the segment experienced growth during fiscal 2008 . license revenue generated the largest dollar growth in revenue as episys ae , our flagship core processing system aimed at larger credit unions , experienced strong sales throughout the year . support and service revenue , which is the largest component of total revenues for the credit union segment , experienced 34 percent growth in eft support and 10 percent growth in in-house support . gross profit in this business segment increased $ 9344 in fiscal 2008 compared to fiscal 2007 , due primarily to the increase in license revenue , which carries the highest margins . liquidity and capital resources we have historically generated positive cash flow from operations and have generally used funds generated from operations and short-term borrowings on our revolving credit facility to meet capital requirements . we expect this trend to continue in the future . the company 2019s cash and cash equivalents increased to $ 118251 at june 30 , 2009 from $ 65565 at june 30 , 2008 . the following table summarizes net cash from operating activities in the statement of cash flows : 2009 2008 2007 .',\n",
       "  'amt_post_text': 'year ended june 30 , cash provided by operations increased $ 25587 to $ 206588 for the fiscal year ended june 30 , 2009 as compared to $ 181001 for the fiscal year ended june 30 , 2008 . this increase is primarily attributable to a decrease in receivables compared to the same period a year ago of $ 21214 . this decrease is largely the result of fiscal 2010 annual software maintenance billings being provided to customers earlier than in the prior year , which allowed more cash to be collected before the end of the fiscal year than in previous years . further , we collected more cash overall related to revenues that will be recognized in subsequent periods in the current year than in fiscal 2008 . cash used in investing activities for the fiscal year ended june 2009 was $ 59227 and includes $ 3027 in contingent consideration paid on prior years 2019 acquisitions . cash used in investing activities for the fiscal year ended june 2008 was $ 102148 and includes payments for acquisitions of $ 48109 , plus $ 1215 in contingent consideration paid on prior years 2019 acquisitions . capital expenditures for fiscal 2009 were $ 31562 compared to $ 31105 for fiscal 2008 . cash used for software development in fiscal 2009 was $ 24684 compared to $ 23736 during the prior year . net cash used in financing activities for the current fiscal year was $ 94675 and includes the repurchase of 3106 shares of our common stock for $ 58405 , the payment of dividends of $ 26903 and $ 13489 net repayment on our revolving credit facilities . cash used in financing activities was partially offset by proceeds of $ 3773 from the exercise of stock options and the sale of common stock ( through the employee stock purchase plan ) and $ 348 excess tax benefits from stock option exercises . during fiscal 2008 , net cash used in financing activities for the fiscal year was $ 101905 and includes the repurchase of 4200 shares of our common stock for $ 100996 , the payment of dividends of $ 24683 and $ 429 net repayment on our revolving credit facilities . cash used in financing activities was partially offset by proceeds of $ 20394 from the exercise of stock options and the sale of common stock and $ 3809 excess tax benefits from stock option exercises . beginning during fiscal 2008 , us financial markets and many of the largest us financial institutions have been shaken by negative developments in the home mortgage industry and the mortgage markets , and particularly the markets for subprime mortgage-backed securities . since that time , these and other such developments have resulted in a broad , global economic downturn . while we , as is the case with most companies , have experienced the effects of this downturn , we have not experienced any significant issues with our current collection efforts , and we believe that any future impact to our liquidity will be minimized by cash generated by recurring sources of revenue and due to our access to available lines of credit. .',\n",
       "  'original_program': 'subtract(206588, 181001), divide(A0, 181001)',\n",
       "  'step_list': ['Ask for number 206588',\n",
       "   'Ask for number 181001',\n",
       "   'subtract(206588, 181001)',\n",
       "   'divide(A0, 181001)'],\n",
       "  'answer_list': ['206588', '181001', 'A0', 'A1'],\n",
       "  'dialogue_break': ['what is the net cash from operating activities in 2009?',\n",
       "   'what about in 2008?',\n",
       "   'what is the difference?',\n",
       "   'what percentage change does this represent?'],\n",
       "  'turn_program_ori': ['206588',\n",
       "   '181001',\n",
       "   'subtract(206588, 181001)',\n",
       "   'subtract(206588, 181001), divide(#0, 181001)'],\n",
       "  'dialogue_break_ori': ['what is the net cash from operating activities in 2009?',\n",
       "   'what about in 2008?',\n",
       "   'what is the difference?',\n",
       "   'what percentage change does this represent?'],\n",
       "  'turn_program': ['206588',\n",
       "   '181001',\n",
       "   'subtract(206588, 181001)',\n",
       "   'subtract(206588, 181001), divide(#0, 181001)'],\n",
       "  'qa_split': [0, 0, 0, 0],\n",
       "  'exe_ans_list': [206588.0, 181001.0, 25587.0, 0.14136]}}"
      ]
     },
     "execution_count": 3,
     "metadata": {},
     "output_type": "execute_result"
    }
   ],
   "source": [
    "# Preview the first data entry\n",
    "data[0]\n"
   ]
  },
  {
   "cell_type": "code",
   "execution_count": 7,
   "metadata": {},
   "outputs": [],
   "source": [
    "def create_prompt(entry):\n",
    "    # Get context: pre + post text + table\n",
    "    pre_text = \" \".join(entry.get('pre_text', []))\n",
    "    post_text = \" \".join(entry.get('post_text', []))\n",
    "    table_data = entry.get('table_ori') or entry.get('table') or []\n",
    "    table_str = \"\\n\".join([\"\\t\".join(row) for row in table_data if any(row)])\n",
    "\n",
    "    context = f\"Table:\\n{table_str}\\n\\nPre-text: {pre_text}\\n\\nPost-text: {post_text}\"\n",
    "\n",
    "    # Case 1: Standard QA structure\n",
    "    if 'qa' in entry:\n",
    "        question = entry['qa'].get('question', '[No question]')\n",
    "        answer = entry['qa'].get('answer', '[No answer]')\n",
    "        steps = entry['qa'].get('steps', [])\n",
    "\n",
    "        steps_str = \"\"\n",
    "        for i, step in enumerate(steps):\n",
    "            op = step['op']\n",
    "            arg1 = step['arg1']\n",
    "            arg2 = step['arg2']\n",
    "            res = step['res']\n",
    "            if \"minus\" in op:\n",
    "                steps_str += f\"{i+1}. subtract({arg1}, {arg2}) = {res}\\n\"\n",
    "            elif \"divide\" in op:\n",
    "                steps_str += f\"{i+1}. divide({arg1}, {arg2}) = {res}\\n\"\n",
    "            else:\n",
    "                steps_str += f\"{i+1}. {op}({arg1}, {arg2}) = {res}\\n\"\n",
    "\n",
    "        prompt = (\n",
    "            f\"Question: {question}\\n\\n\"\n",
    "            f\"Context:\\n{context}\\n\\n\"\n",
    "            f\"Steps:\\n{steps_str}\"\n",
    "            f\"Answer: {answer}\"\n",
    "        )\n",
    "\n",
    "    # Case 2: Use dialogue_break and exe_ans_list if 'qa' is missing\n",
    "    elif 'annotation' in entry and 'dialogue_break' in entry['annotation']:\n",
    "        turns = entry['annotation']['dialogue_break']\n",
    "        answers = entry['annotation'].get('exe_ans_list', [])\n",
    "\n",
    "        dialogue_str = \"\"\n",
    "        for i, (q, a) in enumerate(zip(turns, answers)):\n",
    "            if isinstance(a, float):\n",
    "                a_fmt = f\"{a:.4f}\" if 0 < a < 1 else str(a)\n",
    "            else:\n",
    "                a_fmt = str(a)\n",
    "            dialogue_str += f\"Q{i+1}: {q}\\nA{i+1}: {a_fmt}\\n\"\n",
    "\n",
    "        # The last question and answer become the main ones\n",
    "        question = turns[-1]\n",
    "        answer = answers[-1] if answers else \"[No answer]\"\n",
    "\n",
    "        prompt = (\n",
    "            f\"Multi-turn Financial QA:\\n{dialogue_str}\\n\"\n",
    "            f\"\\nContext:\\n{context}\\n\"\n",
    "            f\"\\nFinal Answer: {answer}\"\n",
    "        )\n",
    "\n",
    "    else:\n",
    "        raise ValueError(\"No qa or dialogue_break found\")\n",
    "\n",
    "    return {\n",
    "        \"prompt\": prompt,\n",
    "        \"question\": question,\n",
    "        \"answer\": str(answer)\n",
    "    }\n"
   ]
  },
  {
   "cell_type": "code",
   "execution_count": 8,
   "metadata": {},
   "outputs": [],
   "source": [
    "formatted_data = []\n",
    "\n",
    "for i, entry in enumerate(data):\n",
    "    try:\n",
    "        formatted = create_prompt(entry)\n",
    "        formatted_data.append(formatted)\n",
    "    except Exception as e:\n",
    "        print(f\"❌ Entry {i} skipped: {e}\")\n",
    "\n"
   ]
  },
  {
   "cell_type": "code",
   "execution_count": 9,
   "metadata": {},
   "outputs": [
    {
     "name": "stdout",
     "output_type": "stream",
     "text": [
      "Formatted prompts saved successfully.\n"
     ]
    }
   ],
   "source": [
    "with open('../data/finqa_train_prompts.json', 'w') as f:\n",
    "    json.dump(formatted_data, f, indent=4)\n",
    "\n",
    "print(\"Formatted prompts saved successfully.\")\n"
   ]
  }
 ],
 "metadata": {
  "kernelspec": {
   "display_name": ".venv",
   "language": "python",
   "name": "python3"
  },
  "language_info": {
   "codemirror_mode": {
    "name": "ipython",
    "version": 3
   },
   "file_extension": ".py",
   "mimetype": "text/x-python",
   "name": "python",
   "nbconvert_exporter": "python",
   "pygments_lexer": "ipython3",
   "version": "3.13.2"
  }
 },
 "nbformat": 4,
 "nbformat_minor": 2
}
